{
 "cells": [
  {
   "cell_type": "code",
   "execution_count": null,
   "id": "a575a6c9",
   "metadata": {},
   "outputs": [],
   "source": [
    "pip install numpy pyautogui opencv-python"
   ]
  },
  {
   "cell_type": "code",
   "execution_count": null,
   "id": "19dbf435",
   "metadata": {},
   "outputs": [],
   "source": [
    "# importing the required packages\n",
    "import pyautogui\n",
    "import cv2\n",
    "import numpy as np\n",
    "\n",
    "# Specify resolution\n",
    "resolution = (1920, 1080)\n",
    "\n",
    "# Specify video codec\n",
    "codec = cv2.VideoWriter_fourcc(*\"XVID\")\n",
    "\n",
    "# Specify name of Output file\n",
    "filename = \"Recording.mp4\"\n",
    "\n",
    "# Specify frames rate. We can choose any \n",
    "# value and experiment with it\n",
    "fps = 60.0\n",
    "\n",
    "\n",
    "# Creating a VideoWriter object\n",
    "out = cv2.VideoWriter(filename, codec, fps, resolution)\n",
    "\n",
    "# Create an Empty window\n",
    "cv2.namedWindow(\"Live\", cv2.WINDOW_NORMAL)\n",
    "\n",
    "# Resize this window\n",
    "cv2.resizeWindow(\"Live\", 480, 270)\n",
    "\n",
    "while True:\n",
    "\t# Take screenshot using PyAutoGUI\n",
    "\timg = pyautogui.screenshot()\n",
    "\n",
    "\t# Convert the screenshot to a numpy array\n",
    "\tframe = np.array(img)\n",
    "\n",
    "\t# Convert it from BGR(Blue, Green, Red) to\n",
    "\t# RGB(Red, Green, Blue)\n",
    "\tframe = cv2.cvtColor(frame, cv2.COLOR_BGR2RGB)\n",
    "\n",
    "\t# Write it to the output file\n",
    "\tout.write(frame)\n",
    "\t\n",
    "\t# Optional: Display the recording screen\n",
    "\tcv2.imshow('Live', frame)\n",
    "\t\n",
    "\t# Stop recording when we press 'q'\n",
    "\tif cv2.waitKey(1) == ord('q'):\n",
    "\t\tbreak\n",
    "\n",
    "# Release the Video writer\n",
    "out.release()\n",
    "\n",
    "# Destroy all windows\n",
    "cv2.destroyAllWindows()\n"
   ]
  },
  {
   "cell_type": "code",
   "execution_count": null,
   "id": "2d26f155",
   "metadata": {},
   "outputs": [],
   "source": []
  }
 ],
 "metadata": {
  "kernelspec": {
   "display_name": "Python 3 (ipykernel)",
   "language": "python",
   "name": "python3"
  },
  "language_info": {
   "codemirror_mode": {
    "name": "ipython",
    "version": 3
   },
   "file_extension": ".py",
   "mimetype": "text/x-python",
   "name": "python",
   "nbconvert_exporter": "python",
   "pygments_lexer": "ipython3",
   "version": "3.9.13"
  }
 },
 "nbformat": 4,
 "nbformat_minor": 5
}
